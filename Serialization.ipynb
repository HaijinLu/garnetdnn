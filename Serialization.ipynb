{
 "cells": [
  {
   "cell_type": "code",
   "execution_count": 4,
   "metadata": {
    "collapsed": false
   },
   "outputs": [],
   "source": [
    "from keras.models import load_model\n",
    "from monty.serialization import dumpfn, loadfn\n",
    "from sklearn.preprocessing import StandardScaler\n",
    "from pymatgen.core.periodic_table import get_el_sp\n",
    "import pickle\n",
    "import numpy as np"
   ]
  },
  {
   "cell_type": "code",
   "execution_count": null,
   "metadata": {
    "collapsed": false
   },
   "outputs": [],
   "source": [
    "model_c = load_model(\"models/model_ext_c.h5\")\n",
    "with open('models/scaler_ext_c.pkl', 'rb') as f:\n",
    "    scaler_c = pickle.load(f)\n",
    "\n",
    "model_a = load_model(\"models/model_ext_a.h5\")\n",
    "with open('models/scaler_ext_a.pkl', 'rb') as f:\n",
    "    scaler_a = pickle.load(f)\n",
    "        \n",
    "model_d = load_model(\"models/model_ext_d.h5\")\n",
    "with open('models/scaler_ext_d.pkl', 'rb') as f:\n",
    "    scaler_d = pickle.load(f)"
   ]
  },
  {
   "cell_type": "code",
   "execution_count": null,
   "metadata": {
    "collapsed": true
   },
   "outputs": [],
   "source": [
    "# To serialize scaler\n",
    "import serialize_sk as sk\n",
    "import sys\n",
    "\n",
    "def scaler_to_json(scaler, file_name):\n",
    "    dumpfn(serialize_class(scaler), file_name)\n",
    "    \n",
    "def load_scaler(file_name):\n",
    "    scaler_json = loadfn(file_name) \n",
    "    return deserialize_class(scaler_json)\n",
    "\n",
    "def serialize_class(cls_):\n",
    "    return sk.encode({'mod': cls_.__module__, 'name': cls_.__class__.__name__,\n",
    "            'attr': cls_.__dict__})\n",
    "\n",
    "def deserialize_class(cls_repr):\n",
    "    cls_repr = sk.decode(cls_repr)\n",
    "    cls_ = getattr(sys.modules[cls_repr['mod']], cls_repr['name'])\n",
    "    cls_init = cls_()\n",
    "    for k, v in cls_repr['attr'].items():\n",
    "        setattr(cls_init, k, v)\n",
    "    return cls_init"
   ]
  },
  {
   "cell_type": "code",
   "execution_count": null,
   "metadata": {
    "collapsed": false
   },
   "outputs": [],
   "source": [
    "# # To save scaler to json\n",
    "# scaler_to_json(scaler,\"garnet_scaler_20171025.json\")\n",
    "\n",
    "# # To save model in json\n",
    "# weights = model.get_weights()\n",
    "# MODEL = {\"parameters\":model.to_json(),\n",
    "#         \"weights\":model.get_weights()}\n",
    "# dumpfn(MODEL, \"garnet_model_20171025.json\")"
   ]
  },
  {
   "cell_type": "code",
   "execution_count": null,
   "metadata": {
    "collapsed": false
   },
   "outputs": [],
   "source": [
    "# # test load scaler.json\n",
    "# scaler_json = loadfn(\"garnet_scaler_20171025.json\")\n",
    "# scaler_loaded = deserialize_class(scaler_json)"
   ]
  },
  {
   "cell_type": "code",
   "execution_count": null,
   "metadata": {
    "collapsed": false
   },
   "outputs": [],
   "source": [
    "models = {'ext_c':{\n",
    "                    \"model\":{\n",
    "                            \"parameters\": model_c.to_json(),\n",
    "                            \"weights\": model_c.get_weights()\n",
    "                            },\n",
    "                    \"scaler\":serialize_class(scaler_c)}, \n",
    "          'ext_a':{\n",
    "                    \"model\":{\n",
    "                            \"parameters\": model_a.to_json(),\n",
    "                            \"weights\": model_a.get_weights()\n",
    "                            },\n",
    "                    \"scaler\":serialize_class(scaler_a)}, \n",
    "          'ext_d': {\n",
    "                    \"model\":{\n",
    "                            \"parameters\": model_d.to_json(),\n",
    "                            \"weights\": model_d.get_weights()\n",
    "                            },\n",
    "                    \"scaler\":serialize_class(scaler_d)}\n",
    "         }\n",
    "\n",
    "dumpfn(models,\"GarnetModels.json\")"
   ]
  }
 ],
 "metadata": {
  "anaconda-cloud": {},
  "kernelspec": {
   "display_name": "Python [conda root]",
   "language": "python",
   "name": "conda-root-py"
  },
  "language_info": {
   "codemirror_mode": {
    "name": "ipython",
    "version": 3
   },
   "file_extension": ".py",
   "mimetype": "text/x-python",
   "name": "python",
   "nbconvert_exporter": "python",
   "pygments_lexer": "ipython3",
   "version": "3.5.2"
  }
 },
 "nbformat": 4,
 "nbformat_minor": 2
}
