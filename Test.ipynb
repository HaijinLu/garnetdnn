{
 "cells": [
  {
   "cell_type": "code",
   "execution_count": 1,
   "metadata": {
    "collapsed": false,
    "scrolled": true
   },
   "outputs": [
    {
     "name": "stderr",
     "output_type": "stream",
     "text": [
      "Using TensorFlow backend.\n"
     ]
    }
   ],
   "source": [
    "from app import *\n",
    "from pymatgen.core.periodic_table import get_el_sp\n",
    "from monty.serialization import loadfn, dumpfn"
   ]
  },
  {
   "cell_type": "code",
   "execution_count": 2,
   "metadata": {
    "collapsed": true
   },
   "outputs": [],
   "source": [
    "# Test C-mix"
   ]
  },
  {
   "cell_type": "code",
   "execution_count": 3,
   "metadata": {
    "collapsed": false
   },
   "outputs": [],
   "source": [
    "c_mix_data = loadfn(\"/Users/yeweike/repos/proj_garnet/data/models/2017-11-11/bie_extended_config_c_mix_unmix_25-22-8-0-1/model_0.1546/c_ehull_.json\")\n",
    "ss_data = loadfn(\"/Users/yeweike/repos/proj_garnet/data/models/2017-11-11/bie_extended_config_c_mix_unmix_25-22-8-0-1/model_0.1546/ss_ehull_combined.json\")\n",
    "  "
   ]
  },
  {
   "cell_type": "code",
   "execution_count": 7,
   "metadata": {
    "collapsed": false
   },
   "outputs": [
    {
     "name": "stdout",
     "output_type": "stream",
     "text": [
      "False\n",
      "-2.08616235398e-08\n"
     ]
    },
    {
     "name": "stderr",
     "output_type": "stream",
     "text": [
      "/Users/yeweike/repos/pymatgen/pymatgen/entries/compatibility.py:257: UserWarning: No structure or oxide_type parameter present. Notethat peroxide/superoxide corrections are not as reliable and relies only on detection of specialformulas, e.g., Li2O2.\n",
      "  \"No structure or oxide_type parameter present. Note\"\n"
     ]
    }
   ],
   "source": [
    "test_case = c_mix_data[3]\n",
    "\n",
    "species = {site: {get_el_sp(sp):amt \\\n",
    "                  for sp,amt in test_case[site].items()}\\\n",
    "           for site in ['c','a','d']}\n",
    "des = get_descriptor_ext(species)\n",
    "model,scaler = model_load_single('ext_c')\n",
    "form_e = get_form_e_ext(des,model,scaler)\\\n",
    "\n",
    "\n",
    "tot_e = get_tote(form_e=form_e, species=species)\n",
    "ehull = get_ehull(tot_e=tot_e, species=species)\n",
    "\n",
    "ground_config = sorted(test_case['config_ehull'],\n",
    "                       key=lambda a:test_case['config_ehull'][a]['form_e_pred'])[0]\n",
    "form_e_pred = test_case['config_ehull'][ground_config]['form_e_pred']\n",
    "ehull_pred = test_case['config_ehull'][ground_config]['ehull_pred']\n",
    "\n",
    "print(abs(form_e - form_e_pred)<1e-7)\n",
    "print(ehull[1] - ehull_pred)"
   ]
  }
 ],
 "metadata": {
  "anaconda-cloud": {},
  "kernelspec": {
   "display_name": "Python [conda root]",
   "language": "python",
   "name": "conda-root-py"
  },
  "language_info": {
   "codemirror_mode": {
    "name": "ipython",
    "version": 3
   },
   "file_extension": ".py",
   "mimetype": "text/x-python",
   "name": "python",
   "nbconvert_exporter": "python",
   "pygments_lexer": "ipython3",
   "version": "3.5.2"
  }
 },
 "nbformat": 4,
 "nbformat_minor": 2
}
